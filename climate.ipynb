{
 "cells": [
  {
   "cell_type": "markdown",
   "metadata": {},
   "source": [
    "Fonctionne pour les données en temps réel"
   ]
  },
  {
   "cell_type": "code",
   "execution_count": 23,
   "metadata": {},
   "outputs": [
    {
     "name": "stdout",
     "output_type": "stream",
     "text": [
      "{'coord': {'lon': 2.349, 'lat': 48.8647}, 'weather': [{'id': 800, 'main': 'Clear', 'description': 'clear sky', 'icon': '01n'}], 'base': 'stations', 'main': {'temp': 277.97, 'feels_like': 274.72, 'temp_min': 277.03, 'temp_max': 279.53, 'pressure': 1030, 'humidity': 88, 'sea_level': 1030, 'grnd_level': 1020}, 'visibility': 10000, 'wind': {'speed': 4.12, 'deg': 60}, 'clouds': {'all': 0}, 'dt': 1732820384, 'sys': {'type': 1, 'id': 6540, 'country': 'FR', 'sunrise': 1732778361, 'sunset': 1732809504}, 'timezone': 3600, 'id': 6455259, 'name': 'Paris', 'cod': 200}\n"
     ]
    }
   ],
   "source": [
    "import requests\n",
    "\n",
    "def get_weather_data(api_key, city):\n",
    "    base_url = \"https://api.openweathermap.org/data/2.5/weather\"\n",
    "    params = {\n",
    "        'appid': api_key,\n",
    "        'lat': city['lat'],\n",
    "        'lon': city['lon']\n",
    "    }\n",
    "    response = requests.get(base_url, params=params)\n",
    "    if response.status_code == 200:\n",
    "        return response.json()\n",
    "    else:\n",
    "        return None\n",
    "\n",
    "# Example usage\n",
    "api_key = 'dfe29e547d7bb2b39b1e32d3afc328b4'\n",
    "city = {'lat': 48.8566, 'lon': 2.3522}  # Coordinates for Paris, France\n",
    "\n",
    "weather_data = get_weather_data(api_key, city)\n",
    "print(weather_data)"
   ]
  },
  {
   "cell_type": "markdown",
   "metadata": {},
   "source": [
    "Fonctionne pour les dates de moins d'un an"
   ]
  },
  {
   "cell_type": "code",
   "execution_count": 22,
   "metadata": {},
   "outputs": [
    {
     "name": "stdout",
     "output_type": "stream",
     "text": [
      "{'location': {'name': 'Paris', 'region': 'Ile-de-France', 'country': 'France', 'lat': 48.8667, 'lon': 2.3333, 'tz_id': 'Europe/Paris', 'localtime_epoch': 1732753975, 'localtime': '2024-11-28 01:32'}, 'forecast': {'forecastday': [{'date': '2024-01-01', 'date_epoch': 1704067200, 'day': {'maxtemp_c': 9.6, 'maxtemp_f': 49.3, 'mintemp_c': 6.3, 'mintemp_f': 43.3, 'avgtemp_c': 7.9, 'avgtemp_f': 46.1, 'maxwind_mph': 20.8, 'maxwind_kph': 33.5, 'totalprecip_mm': 4.55, 'totalprecip_in': 0.18, 'totalsnow_cm': 0.0, 'avgvis_km': 9.5, 'avgvis_miles': 5.0, 'avghumidity': 79, 'daily_will_it_rain': 1, 'daily_chance_of_rain': 100, 'daily_will_it_snow': 0, 'daily_chance_of_snow': 0, 'condition': {'text': 'Light drizzle', 'icon': '//cdn.weatherapi.com/weather/64x64/day/266.png', 'code': 1153}, 'uv': 2.0}, 'astro': {'sunrise': '08:44 AM', 'sunset': '05:04 PM', 'moonrise': '10:46 PM', 'moonset': '11:52 AM', 'moon_phase': 'Waning Gibbous', 'moon_illumination': 78}, 'hour': [{'time_epoch': 1704063600, 'time': '2024-01-01 00:00', 'temp_c': 7.5, 'temp_f': 45.4, 'is_day': 0, 'condition': {'text': 'Partly cloudy', 'icon': '//cdn.weatherapi.com/weather/64x64/night/116.png', 'code': 1003}, 'wind_mph': 15.4, 'wind_kph': 24.8, 'wind_degree': 233, 'wind_dir': 'SW', 'pressure_mb': 1009.0, 'pressure_in': 29.8, 'precip_mm': 0.0, 'precip_in': 0.0, 'snow_cm': 0.0, 'humidity': 70, 'cloud': 46, 'feelslike_c': 3.7, 'feelslike_f': 38.6, 'windchill_c': 3.7, 'windchill_f': 38.6, 'heatindex_c': 7.5, 'heatindex_f': 45.4, 'dewpoint_c': 2.4, 'dewpoint_f': 36.4, 'will_it_rain': 0, 'chance_of_rain': 0, 'will_it_snow': 0, 'chance_of_snow': 0, 'vis_km': 10.0, 'vis_miles': 6.0, 'gust_mph': 22.7, 'gust_kph': 36.5, 'uv': 0.0}, {'time_epoch': 1704067200, 'time': '2024-01-01 01:00', 'temp_c': 7.1, 'temp_f': 44.8, 'is_day': 0, 'condition': {'text': 'Clear', 'icon': '//cdn.weatherapi.com/weather/64x64/night/113.png', 'code': 1000}, 'wind_mph': 15.0, 'wind_kph': 24.1, 'wind_degree': 232, 'wind_dir': 'SW', 'pressure_mb': 1010.0, 'pressure_in': 29.82, 'precip_mm': 0.0, 'precip_in': 0.0, 'snow_cm': 0.0, 'humidity': 71, 'cloud': 22, 'feelslike_c': 3.3, 'feelslike_f': 37.9, 'windchill_c': 3.3, 'windchill_f': 37.9, 'heatindex_c': 7.1, 'heatindex_f': 44.8, 'dewpoint_c': 2.3, 'dewpoint_f': 36.1, 'will_it_rain': 0, 'chance_of_rain': 0, 'will_it_snow': 0, 'chance_of_snow': 0, 'vis_km': 10.0, 'vis_miles': 6.0, 'gust_mph': 22.3, 'gust_kph': 35.9, 'uv': 0.0}, {'time_epoch': 1704070800, 'time': '2024-01-01 02:00', 'temp_c': 7.0, 'temp_f': 44.7, 'is_day': 0, 'condition': {'text': 'Partly cloudy', 'icon': '//cdn.weatherapi.com/weather/64x64/night/116.png', 'code': 1003}, 'wind_mph': 14.8, 'wind_kph': 23.8, 'wind_degree': 234, 'wind_dir': 'SW', 'pressure_mb': 1010.0, 'pressure_in': 29.82, 'precip_mm': 0.0, 'precip_in': 0.0, 'snow_cm': 0.0, 'humidity': 71, 'cloud': 32, 'feelslike_c': 3.3, 'feelslike_f': 37.9, 'windchill_c': 3.3, 'windchill_f': 37.9, 'heatindex_c': 7.0, 'heatindex_f': 44.7, 'dewpoint_c': 2.2, 'dewpoint_f': 36.0, 'will_it_rain': 0, 'chance_of_rain': 0, 'will_it_snow': 0, 'chance_of_snow': 0, 'vis_km': 10.0, 'vis_miles': 6.0, 'gust_mph': 22.1, 'gust_kph': 35.5, 'uv': 0.0}, {'time_epoch': 1704074400, 'time': '2024-01-01 03:00', 'temp_c': 7.0, 'temp_f': 44.6, 'is_day': 0, 'condition': {'text': 'Partly cloudy', 'icon': '//cdn.weatherapi.com/weather/64x64/night/116.png', 'code': 1003}, 'wind_mph': 14.3, 'wind_kph': 23.0, 'wind_degree': 233, 'wind_dir': 'SW', 'pressure_mb': 1010.0, 'pressure_in': 29.83, 'precip_mm': 0.0, 'precip_in': 0.0, 'snow_cm': 0.0, 'humidity': 74, 'cloud': 28, 'feelslike_c': 3.3, 'feelslike_f': 37.9, 'windchill_c': 3.3, 'windchill_f': 37.9, 'heatindex_c': 7.0, 'heatindex_f': 44.6, 'dewpoint_c': 2.7, 'dewpoint_f': 36.9, 'will_it_rain': 0, 'chance_of_rain': 0, 'will_it_snow': 0, 'chance_of_snow': 0, 'vis_km': 10.0, 'vis_miles': 6.0, 'gust_mph': 21.5, 'gust_kph': 34.6, 'uv': 0.0}, {'time_epoch': 1704078000, 'time': '2024-01-01 04:00', 'temp_c': 6.8, 'temp_f': 44.3, 'is_day': 0, 'condition': {'text': 'Clear', 'icon': '//cdn.weatherapi.com/weather/64x64/night/113.png', 'code': 1000}, 'wind_mph': 13.4, 'wind_kph': 21.6, 'wind_degree': 234, 'wind_dir': 'SW', 'pressure_mb': 1010.0, 'pressure_in': 29.84, 'precip_mm': 0.0, 'precip_in': 0.0, 'snow_cm': 0.0, 'humidity': 75, 'cloud': 21, 'feelslike_c': 3.2, 'feelslike_f': 37.7, 'windchill_c': 3.2, 'windchill_f': 37.7, 'heatindex_c': 6.8, 'heatindex_f': 44.3, 'dewpoint_c': 2.8, 'dewpoint_f': 37.0, 'will_it_rain': 0, 'chance_of_rain': 0, 'will_it_snow': 0, 'chance_of_snow': 0, 'vis_km': 10.0, 'vis_miles': 6.0, 'gust_mph': 20.4, 'gust_kph': 32.8, 'uv': 0.0}, {'time_epoch': 1704081600, 'time': '2024-01-01 05:00', 'temp_c': 6.7, 'temp_f': 44.1, 'is_day': 0, 'condition': {'text': 'Clear', 'icon': '//cdn.weatherapi.com/weather/64x64/night/113.png', 'code': 1000}, 'wind_mph': 12.8, 'wind_kph': 20.5, 'wind_degree': 233, 'wind_dir': 'SW', 'pressure_mb': 1011.0, 'pressure_in': 29.84, 'precip_mm': 0.0, 'precip_in': 0.0, 'snow_cm': 0.0, 'humidity': 77, 'cloud': 21, 'feelslike_c': 3.2, 'feelslike_f': 37.7, 'windchill_c': 3.2, 'windchill_f': 37.7, 'heatindex_c': 6.7, 'heatindex_f': 44.1, 'dewpoint_c': 2.9, 'dewpoint_f': 37.3, 'will_it_rain': 0, 'chance_of_rain': 0, 'will_it_snow': 0, 'chance_of_snow': 0, 'vis_km': 10.0, 'vis_miles': 6.0, 'gust_mph': 19.4, 'gust_kph': 31.2, 'uv': 0.0}, {'time_epoch': 1704085200, 'time': '2024-01-01 06:00', 'temp_c': 6.5, 'temp_f': 43.7, 'is_day': 0, 'condition': {'text': 'Partly cloudy', 'icon': '//cdn.weatherapi.com/weather/64x64/night/116.png', 'code': 1003}, 'wind_mph': 12.1, 'wind_kph': 19.4, 'wind_degree': 230, 'wind_dir': 'SW', 'pressure_mb': 1011.0, 'pressure_in': 29.86, 'precip_mm': 0.0, 'precip_in': 0.0, 'snow_cm': 0.0, 'humidity': 80, 'cloud': 50, 'feelslike_c': 3.0, 'feelslike_f': 37.4, 'windchill_c': 3.0, 'windchill_f': 37.4, 'heatindex_c': 6.5, 'heatindex_f': 43.7, 'dewpoint_c': 3.3, 'dewpoint_f': 37.9, 'will_it_rain': 0, 'chance_of_rain': 0, 'will_it_snow': 0, 'chance_of_snow': 0, 'vis_km': 10.0, 'vis_miles': 6.0, 'gust_mph': 18.3, 'gust_kph': 29.4, 'uv': 0.0}, {'time_epoch': 1704088800, 'time': '2024-01-01 07:00', 'temp_c': 6.3, 'temp_f': 43.4, 'is_day': 0, 'condition': {'text': 'Cloudy', 'icon': '//cdn.weatherapi.com/weather/64x64/night/119.png', 'code': 1006}, 'wind_mph': 11.0, 'wind_kph': 17.6, 'wind_degree': 228, 'wind_dir': 'SW', 'pressure_mb': 1012.0, 'pressure_in': 29.87, 'precip_mm': 0.0, 'precip_in': 0.0, 'snow_cm': 0.0, 'humidity': 82, 'cloud': 77, 'feelslike_c': 3.1, 'feelslike_f': 37.5, 'windchill_c': 3.1, 'windchill_f': 37.5, 'heatindex_c': 6.4, 'heatindex_f': 43.4, 'dewpoint_c': 3.6, 'dewpoint_f': 38.4, 'will_it_rain': 0, 'chance_of_rain': 0, 'will_it_snow': 0, 'chance_of_snow': 0, 'vis_km': 10.0, 'vis_miles': 6.0, 'gust_mph': 16.7, 'gust_kph': 26.8, 'uv': 0.0}, {'time_epoch': 1704092400, 'time': '2024-01-01 08:00', 'temp_c': 6.3, 'temp_f': 43.3, 'is_day': 0, 'condition': {'text': 'Cloudy', 'icon': '//cdn.weatherapi.com/weather/64x64/night/119.png', 'code': 1006}, 'wind_mph': 10.3, 'wind_kph': 16.6, 'wind_degree': 220, 'wind_dir': 'SW', 'pressure_mb': 1012.0, 'pressure_in': 29.89, 'precip_mm': 0.0, 'precip_in': 0.0, 'snow_cm': 0.0, 'humidity': 84, 'cloud': 82, 'feelslike_c': 3.1, 'feelslike_f': 37.6, 'windchill_c': 3.1, 'windchill_f': 37.6, 'heatindex_c': 6.3, 'heatindex_f': 43.3, 'dewpoint_c': 3.9, 'dewpoint_f': 39.0, 'will_it_rain': 0, 'chance_of_rain': 0, 'will_it_snow': 0, 'chance_of_snow': 0, 'vis_km': 10.0, 'vis_miles': 6.0, 'gust_mph': 15.5, 'gust_kph': 25.0, 'uv': 0.0}, {'time_epoch': 1704096000, 'time': '2024-01-01 09:00', 'temp_c': 6.3, 'temp_f': 43.3, 'is_day': 1, 'condition': {'text': 'Overcast', 'icon': '//cdn.weatherapi.com/weather/64x64/day/122.png', 'code': 1009}, 'wind_mph': 9.8, 'wind_kph': 15.8, 'wind_degree': 215, 'wind_dir': 'SW', 'pressure_mb': 1013.0, 'pressure_in': 29.9, 'precip_mm': 0.0, 'precip_in': 0.0, 'snow_cm': 0.0, 'humidity': 87, 'cloud': 100, 'feelslike_c': 3.2, 'feelslike_f': 37.7, 'windchill_c': 3.2, 'windchill_f': 37.7, 'heatindex_c': 6.3, 'heatindex_f': 43.3, 'dewpoint_c': 4.2, 'dewpoint_f': 39.5, 'will_it_rain': 0, 'chance_of_rain': 0, 'will_it_snow': 0, 'chance_of_snow': 0, 'vis_km': 10.0, 'vis_miles': 6.0, 'gust_mph': 14.8, 'gust_kph': 23.8, 'uv': 2.0}, {'time_epoch': 1704099600, 'time': '2024-01-01 10:00', 'temp_c': 6.6, 'temp_f': 43.8, 'is_day': 1, 'condition': {'text': 'Overcast', 'icon': '//cdn.weatherapi.com/weather/64x64/day/122.png', 'code': 1009}, 'wind_mph': 10.1, 'wind_kph': 16.2, 'wind_degree': 207, 'wind_dir': 'SSW', 'pressure_mb': 1013.0, 'pressure_in': 29.9, 'precip_mm': 0.0, 'precip_in': 0.0, 'snow_cm': 0.0, 'humidity': 86, 'cloud': 100, 'feelslike_c': 3.5, 'feelslike_f': 38.3, 'windchill_c': 3.5, 'windchill_f': 38.3, 'heatindex_c': 6.6, 'heatindex_f': 43.8, 'dewpoint_c': 4.4, 'dewpoint_f': 40.0, 'will_it_rain': 0, 'chance_of_rain': 0, 'will_it_snow': 0, 'chance_of_snow': 0, 'vis_km': 10.0, 'vis_miles': 6.0, 'gust_mph': 14.5, 'gust_kph': 23.4, 'uv': 2.0}, {'time_epoch': 1704103200, 'time': '2024-01-01 11:00', 'temp_c': 7.1, 'temp_f': 44.8, 'is_day': 1, 'condition': {'text': 'Cloudy', 'icon': '//cdn.weatherapi.com/weather/64x64/day/119.png', 'code': 1006}, 'wind_mph': 10.7, 'wind_kph': 17.3, 'wind_degree': 202, 'wind_dir': 'SSW', 'pressure_mb': 1012.0, 'pressure_in': 29.9, 'precip_mm': 0.0, 'precip_in': 0.0, 'snow_cm': 0.0, 'humidity': 85, 'cloud': 71, 'feelslike_c': 4.0, 'feelslike_f': 39.2, 'windchill_c': 4.0, 'windchill_f': 39.2, 'heatindex_c': 7.1, 'heatindex_f': 44.8, 'dewpoint_c': 4.7, 'dewpoint_f': 40.5, 'will_it_rain': 0, 'chance_of_rain': 0, 'will_it_snow': 0, 'chance_of_snow': 0, 'vis_km': 10.0, 'vis_miles': 6.0, 'gust_mph': 14.9, 'gust_kph': 24.0, 'uv': 2.0}, {'time_epoch': 1704106800, 'time': '2024-01-01 12:00', 'temp_c': 8.0, 'temp_f': 46.4, 'is_day': 1, 'condition': {'text': 'Overcast', 'icon': '//cdn.weatherapi.com/weather/64x64/day/122.png', 'code': 1009}, 'wind_mph': 11.2, 'wind_kph': 18.0, 'wind_degree': 209, 'wind_dir': 'SSW', 'pressure_mb': 1013.0, 'pressure_in': 29.91, 'precip_mm': 0.0, 'precip_in': 0.0, 'snow_cm': 0.0, 'humidity': 81, 'cloud': 100, 'feelslike_c': 5.1, 'feelslike_f': 41.1, 'windchill_c': 5.1, 'windchill_f': 41.1, 'heatindex_c': 8.0, 'heatindex_f': 46.4, 'dewpoint_c': 5.0, 'dewpoint_f': 41.0, 'will_it_rain': 0, 'chance_of_rain': 0, 'will_it_snow': 0, 'chance_of_snow': 0, 'vis_km': 10.0, 'vis_miles': 6.0, 'gust_mph': 15.0, 'gust_kph': 24.2, 'uv': 2.0}, {'time_epoch': 1704110400, 'time': '2024-01-01 13:00', 'temp_c': 8.9, 'temp_f': 48.0, 'is_day': 1, 'condition': {'text': 'Patchy rain possible', 'icon': '//cdn.weatherapi.com/weather/64x64/day/176.png', 'code': 1063}, 'wind_mph': 11.6, 'wind_kph': 18.7, 'wind_degree': 213, 'wind_dir': 'SSW', 'pressure_mb': 1012.0, 'pressure_in': 29.89, 'precip_mm': 0.05, 'precip_in': 0.0, 'snow_cm': 0.0, 'humidity': 74, 'cloud': 58, 'feelslike_c': 6.1, 'feelslike_f': 43.0, 'windchill_c': 6.1, 'windchill_f': 43.0, 'heatindex_c': 8.9, 'heatindex_f': 48.0, 'dewpoint_c': 4.6, 'dewpoint_f': 40.3, 'will_it_rain': 0, 'chance_of_rain': 45, 'will_it_snow': 0, 'chance_of_snow': 0, 'vis_km': 10.0, 'vis_miles': 6.0, 'gust_mph': 15.9, 'gust_kph': 25.6, 'uv': 2.0}, {'time_epoch': 1704114000, 'time': '2024-01-01 14:00', 'temp_c': 9.5, 'temp_f': 49.2, 'is_day': 1, 'condition': {'text': 'Patchy rain possible', 'icon': '//cdn.weatherapi.com/weather/64x64/day/176.png', 'code': 1063}, 'wind_mph': 12.8, 'wind_kph': 20.5, 'wind_degree': 215, 'wind_dir': 'SW', 'pressure_mb': 1012.0, 'pressure_in': 29.87, 'precip_mm': 0.02, 'precip_in': 0.0, 'snow_cm': 0.0, 'humidity': 69, 'cloud': 84, 'feelslike_c': 6.8, 'feelslike_f': 44.2, 'windchill_c': 6.8, 'windchill_f': 44.2, 'heatindex_c': 9.6, 'heatindex_f': 49.2, 'dewpoint_c': 4.1, 'dewpoint_f': 39.4, 'will_it_rain': 0, 'chance_of_rain': 45, 'will_it_snow': 0, 'chance_of_snow': 0, 'vis_km': 10.0, 'vis_miles': 6.0, 'gust_mph': 17.4, 'gust_kph': 28.1, 'uv': 2.0}, {'time_epoch': 1704117600, 'time': '2024-01-01 15:00', 'temp_c': 8.9, 'temp_f': 48.0, 'is_day': 1, 'condition': {'text': 'Light drizzle', 'icon': '//cdn.weatherapi.com/weather/64x64/day/266.png', 'code': 1153}, 'wind_mph': 11.6, 'wind_kph': 18.7, 'wind_degree': 210, 'wind_dir': 'SSW', 'pressure_mb': 1011.0, 'pressure_in': 29.86, 'precip_mm': 0.26, 'precip_in': 0.01, 'snow_cm': 0.0, 'humidity': 74, 'cloud': 100, 'feelslike_c': 6.1, 'feelslike_f': 43.0, 'windchill_c': 6.1, 'windchill_f': 43.0, 'heatindex_c': 8.9, 'heatindex_f': 48.0, 'dewpoint_c': 4.5, 'dewpoint_f': 40.1, 'will_it_rain': 1, 'chance_of_rain': 100, 'will_it_snow': 0, 'chance_of_snow': 0, 'vis_km': 2.0, 'vis_miles': 1.0, 'gust_mph': 15.9, 'gust_kph': 25.6, 'uv': 2.0}, {'time_epoch': 1704121200, 'time': '2024-01-01 16:00', 'temp_c': 8.7, 'temp_f': 47.7, 'is_day': 1, 'condition': {'text': 'Patchy rain possible', 'icon': '//cdn.weatherapi.com/weather/64x64/day/176.png', 'code': 1063}, 'wind_mph': 12.3, 'wind_kph': 19.8, 'wind_degree': 203, 'wind_dir': 'SSW', 'pressure_mb': 1011.0, 'pressure_in': 29.85, 'precip_mm': 0.01, 'precip_in': 0.0, 'snow_cm': 0.0, 'humidity': 78, 'cloud': 100, 'feelslike_c': 5.8, 'feelslike_f': 42.4, 'windchill_c': 5.8, 'windchill_f': 42.4, 'heatindex_c': 8.7, 'heatindex_f': 47.7, 'dewpoint_c': 5.0, 'dewpoint_f': 41.0, 'will_it_rain': 0, 'chance_of_rain': 45, 'will_it_snow': 0, 'chance_of_snow': 0, 'vis_km': 10.0, 'vis_miles': 6.0, 'gust_mph': 17.4, 'gust_kph': 28.1, 'uv': 2.0}, {'time_epoch': 1704124800, 'time': '2024-01-01 17:00', 'temp_c': 8.7, 'temp_f': 47.7, 'is_day': 1, 'condition': {'text': 'Patchy rain possible', 'icon': '//cdn.weatherapi.com/weather/64x64/day/176.png', 'code': 1063}, 'wind_mph': 12.5, 'wind_kph': 20.2, 'wind_degree': 200, 'wind_dir': 'SSW', 'pressure_mb': 1010.0, 'pressure_in': 29.84, 'precip_mm': 0.01, 'precip_in': 0.0, 'snow_cm': 0.0, 'humidity': 79, 'cloud': 100, 'feelslike_c': 5.8, 'feelslike_f': 42.4, 'windchill_c': 5.8, 'windchill_f': 42.4, 'heatindex_c': 8.8, 'heatindex_f': 47.8, 'dewpoint_c': 5.4, 'dewpoint_f': 41.6, 'will_it_rain': 0, 'chance_of_rain': 45, 'will_it_snow': 0, 'chance_of_snow': 0, 'vis_km': 10.0, 'vis_miles': 6.0, 'gust_mph': 18.1, 'gust_kph': 29.1, 'uv': 2.0}, {'time_epoch': 1704128400, 'time': '2024-01-01 18:00', 'temp_c': 8.7, 'temp_f': 47.6, 'is_day': 0, 'condition': {'text': 'Patchy rain possible', 'icon': '//cdn.weatherapi.com/weather/64x64/night/176.png', 'code': 1063}, 'wind_mph': 13.9, 'wind_kph': 22.3, 'wind_degree': 198, 'wind_dir': 'SSW', 'pressure_mb': 1010.0, 'pressure_in': 29.82, 'precip_mm': 0.04, 'precip_in': 0.0, 'snow_cm': 0.0, 'humidity': 82, 'cloud': 100, 'feelslike_c': 5.5, 'feelslike_f': 41.9, 'windchill_c': 5.5, 'windchill_f': 41.9, 'heatindex_c': 8.7, 'heatindex_f': 47.6, 'dewpoint_c': 5.8, 'dewpoint_f': 42.5, 'will_it_rain': 0, 'chance_of_rain': 45, 'will_it_snow': 0, 'chance_of_snow': 0, 'vis_km': 10.0, 'vis_miles': 6.0, 'gust_mph': 20.0, 'gust_kph': 32.3, 'uv': 0.0}, {'time_epoch': 1704132000, 'time': '2024-01-01 19:00', 'temp_c': 8.9, 'temp_f': 48.1, 'is_day': 0, 'condition': {'text': 'Patchy rain possible', 'icon': '//cdn.weatherapi.com/weather/64x64/night/176.png', 'code': 1063}, 'wind_mph': 15.4, 'wind_kph': 24.8, 'wind_degree': 199, 'wind_dir': 'SSW', 'pressure_mb': 1010.0, 'pressure_in': 29.82, 'precip_mm': 0.06, 'precip_in': 0.0, 'snow_cm': 0.0, 'humidity': 82, 'cloud': 100, 'feelslike_c': 5.6, 'feelslike_f': 42.0, 'windchill_c': 5.6, 'windchill_f': 42.0, 'heatindex_c': 8.9, 'heatindex_f': 48.1, 'dewpoint_c': 6.1, 'dewpoint_f': 43.0, 'will_it_rain': 0, 'chance_of_rain': 45, 'will_it_snow': 0, 'chance_of_snow': 0, 'vis_km': 10.0, 'vis_miles': 6.0, 'gust_mph': 22.4, 'gust_kph': 36.1, 'uv': 0.0}, {'time_epoch': 1704135600, 'time': '2024-01-01 20:00', 'temp_c': 9.2, 'temp_f': 48.5, 'is_day': 0, 'condition': {'text': 'Patchy rain possible', 'icon': '//cdn.weatherapi.com/weather/64x64/night/176.png', 'code': 1063}, 'wind_mph': 16.8, 'wind_kph': 27.0, 'wind_degree': 198, 'wind_dir': 'SSW', 'pressure_mb': 1009.0, 'pressure_in': 29.8, 'precip_mm': 0.02, 'precip_in': 0.0, 'snow_cm': 0.0, 'humidity': 82, 'cloud': 100, 'feelslike_c': 5.7, 'feelslike_f': 42.3, 'windchill_c': 5.7, 'windchill_f': 42.3, 'heatindex_c': 9.2, 'heatindex_f': 48.5, 'dewpoint_c': 6.2, 'dewpoint_f': 43.2, 'will_it_rain': 0, 'chance_of_rain': 45, 'will_it_snow': 0, 'chance_of_snow': 0, 'vis_km': 10.0, 'vis_miles': 6.0, 'gust_mph': 24.3, 'gust_kph': 39.2, 'uv': 0.0}, {'time_epoch': 1704139200, 'time': '2024-01-01 21:00', 'temp_c': 9.0, 'temp_f': 48.2, 'is_day': 0, 'condition': {'text': 'Light rain', 'icon': '//cdn.weatherapi.com/weather/64x64/night/296.png', 'code': 1183}, 'wind_mph': 17.0, 'wind_kph': 27.4, 'wind_degree': 197, 'wind_dir': 'SSW', 'pressure_mb': 1008.0, 'pressure_in': 29.77, 'precip_mm': 1.35, 'precip_in': 0.05, 'snow_cm': 0.0, 'humidity': 85, 'cloud': 100, 'feelslike_c': 5.5, 'feelslike_f': 41.8, 'windchill_c': 5.5, 'windchill_f': 41.8, 'heatindex_c': 9.0, 'heatindex_f': 48.2, 'dewpoint_c': 6.7, 'dewpoint_f': 44.0, 'will_it_rain': 1, 'chance_of_rain': 100, 'will_it_snow': 0, 'chance_of_snow': 0, 'vis_km': 9.0, 'vis_miles': 5.0, 'gust_mph': 24.6, 'gust_kph': 39.6, 'uv': 0.0}, {'time_epoch': 1704142800, 'time': '2024-01-01 22:00', 'temp_c': 9.2, 'temp_f': 48.6, 'is_day': 0, 'condition': {'text': 'Light rain', 'icon': '//cdn.weatherapi.com/weather/64x64/night/296.png', 'code': 1183}, 'wind_mph': 18.6, 'wind_kph': 29.9, 'wind_degree': 197, 'wind_dir': 'SSW', 'pressure_mb': 1007.0, 'pressure_in': 29.74, 'precip_mm': 1.32, 'precip_in': 0.05, 'snow_cm': 0.0, 'humidity': 86, 'cloud': 100, 'feelslike_c': 5.6, 'feelslike_f': 42.1, 'windchill_c': 5.6, 'windchill_f': 42.1, 'heatindex_c': 9.2, 'heatindex_f': 48.6, 'dewpoint_c': 7.0, 'dewpoint_f': 44.7, 'will_it_rain': 1, 'chance_of_rain': 100, 'will_it_snow': 0, 'chance_of_snow': 0, 'vis_km': 9.0, 'vis_miles': 5.0, 'gust_mph': 27.3, 'gust_kph': 43.9, 'uv': 0.0}, {'time_epoch': 1704146400, 'time': '2024-01-01 23:00', 'temp_c': 9.6, 'temp_f': 49.3, 'is_day': 0, 'condition': {'text': 'Light rain', 'icon': '//cdn.weatherapi.com/weather/64x64/night/296.png', 'code': 1183}, 'wind_mph': 20.8, 'wind_kph': 33.5, 'wind_degree': 205, 'wind_dir': 'SSW', 'pressure_mb': 1006.0, 'pressure_in': 29.72, 'precip_mm': 1.42, 'precip_in': 0.06, 'snow_cm': 0.0, 'humidity': 85, 'cloud': 100, 'feelslike_c': 5.8, 'feelslike_f': 42.5, 'windchill_c': 5.8, 'windchill_f': 42.5, 'heatindex_c': 9.6, 'heatindex_f': 49.3, 'dewpoint_c': 7.3, 'dewpoint_f': 45.1, 'will_it_rain': 1, 'chance_of_rain': 100, 'will_it_snow': 0, 'chance_of_snow': 0, 'vis_km': 9.0, 'vis_miles': 5.0, 'gust_mph': 30.7, 'gust_kph': 49.4, 'uv': 0.0}]}]}}\n"
     ]
    }
   ],
   "source": [
    "import requests\n",
    "\n",
    "def get_weatherapi_historical(api_key, location, date):\n",
    "    base_url = \"http://api.weatherapi.com/v1/history.json\"\n",
    "    params = {\n",
    "        \"key\": api_key,\n",
    "        \"q\": location,\n",
    "        \"dt\": date\n",
    "    }\n",
    "    response = requests.get(base_url, params=params)\n",
    "    if response.status_code == 200:\n",
    "        return response.json()\n",
    "    else:\n",
    "        return {\n",
    "            \"error\": f\"Failed to fetch data. Status code: {response.status_code}, Message: {response.text}\"\n",
    "        }\n",
    "\n",
    "# Example usage\n",
    "api_key = 'ff25cf52224d4ea5bec02326242811'\n",
    "location = \"Paris\"\n",
    "date = \"2024-01-01\"\n",
    "\n",
    "historical_data = get_weatherapi_historical(api_key, location, date)\n",
    "print(historical_data)\n"
   ]
  }
 ],
 "metadata": {
  "kernelspec": {
   "display_name": "env311",
   "language": "python",
   "name": "python3"
  },
  "language_info": {
   "codemirror_mode": {
    "name": "ipython",
    "version": 3
   },
   "file_extension": ".py",
   "mimetype": "text/x-python",
   "name": "python",
   "nbconvert_exporter": "python",
   "pygments_lexer": "ipython3",
   "version": "3.11.9"
  }
 },
 "nbformat": 4,
 "nbformat_minor": 2
}
