{
 "cells": [
  {
   "cell_type": "markdown",
   "metadata": {},
   "source": [
    "charger le dataset"
   ]
  },
  {
   "cell_type": "code",
   "execution_count": 1,
   "metadata": {},
   "outputs": [],
   "source": [
    "import pandas as pd\n",
    "\n",
    "# Load the data from the CSV file\n",
    "df = pd.read_csv('./satellite_S1_new.csv')"
   ]
  },
  {
   "cell_type": "code",
   "execution_count": 2,
   "metadata": {},
   "outputs": [
    {
     "name": "stdout",
     "output_type": "stream",
     "text": [
      "                                            geometry  latitude_centroid  \\\n",
      "0  [[[36.801563, -17.829673], [36.802546, -17.875...         -17.852289   \n",
      "1  [[[30.079766, -1.947669], [30.079851, -1.99392...          -1.970753   \n",
      "2  [[[-1.734277, 6.731243], [-1.734397, 6.684938]...           6.708030   \n",
      "3  [[[146.754028, -19.184316], [146.753959, -19.2...         -19.207482   \n",
      "4  [[[48.748582, 30.637319], [48.749651, 30.59115...          30.614695   \n",
      "\n",
      "   longitude_centroid  \n",
      "0           36.826162  \n",
      "1           30.102794  \n",
      "2           -1.711179  \n",
      "3          146.778347  \n",
      "4           48.775806  \n"
     ]
    }
   ],
   "source": [
    "from shapely.geometry import Polygon\n",
    "import ast\n",
    "\n",
    "def calculate_centroid(geometry):\n",
    "    # Convert the string representation of the list to an actual list\n",
    "    geometry_list = ast.literal_eval(geometry)\n",
    "    # Create a Polygon object\n",
    "    polygon = Polygon(geometry_list[0])\n",
    "    # Calculate the centroid\n",
    "    centroid = polygon.centroid\n",
    "    return centroid.y, centroid.x\n",
    "\n",
    "# Apply the function to the 'geometry' column\n",
    "df['latitude_centroid'], df['longitude_centroid'] = zip(*df['geometry'].apply(calculate_centroid))\n",
    "\n",
    "print(df[['geometry', 'latitude_centroid', 'longitude_centroid']].head())"
   ]
  },
  {
   "cell_type": "code",
   "execution_count": 4,
   "metadata": {},
   "outputs": [
    {
     "name": "stdout",
     "output_type": "stream",
     "text": [
      "Données météo : {'queryCost': 1, 'latitude': -1.993923, 'longitude': 30.079851, 'resolvedAddress': '-1.993923,30.079851', 'address': '-1.993923,30.079851', 'timezone': 'Africa/Kigali', 'tzoffset': 2.0, 'days': [{'datetime': '2019-01-18', 'datetimeEpoch': 1547762400, 'tempmax': 23.0, 'tempmin': 16.0, 'temp': 18.9, 'feelslikemax': 23.0, 'feelslikemin': 16.0, 'feelslike': 18.9, 'dew': 16.4, 'humidity': 85.8, 'precip': 0.15, 'precipprob': 100.0, 'precipcover': 8.33, 'preciptype': ['rain'], 'snow': None, 'snowdepth': None, 'windgust': None, 'windspeed': 20.5, 'winddir': 71.1, 'pressure': 1020.2, 'cloudcover': 61.9, 'visibility': 9.5, 'solarradiation': None, 'solarenergy': None, 'uvindex': None, 'sunrise': '06:03:25', 'sunriseEpoch': 1547784205, 'sunset': '18:16:32', 'sunsetEpoch': 1547828192, 'moonphase': 0.41, 'conditions': 'Rain, Partially cloudy', 'description': 'Partly cloudy throughout the day with rain in the morning and afternoon.', 'icon': 'rain', 'stations': ['HRYR', '64387099999', '64383099999'], 'source': 'obs'}], 'stations': {'64383099999': {'distance': 74107.0, 'latitude': -1.5, 'longitude': 29.633, 'useCount': 0, 'id': '64383099999', 'name': 'RUHENGERI, RW', 'quality': 61, 'contribution': 0.0}, 'HRYR': {'distance': 5200.0, 'latitude': -1.97, 'longitude': 30.12, 'useCount': 0, 'id': 'HRYR', 'name': 'HRYR', 'quality': 45, 'contribution': 0.0}, '64387099999': {'distance': 7209.0, 'latitude': -1.969, 'longitude': 30.14, 'useCount': 0, 'id': '64387099999', 'name': 'KIGALI INTERNATIONAL, RW', 'quality': 96, 'contribution': 0.0}}}\n"
     ]
    }
   ],
   "source": [
    "import requests\n",
    "\n",
    "def get_weather_visualcrossing(api_key, lat, lon, date):\n",
    "    \"\"\"\n",
    "    Récupère les données météorologiques historiques pour une localisation et une date donnée\n",
    "    via l'API Visual Crossing.\n",
    "\n",
    "    Args:\n",
    "        api_key (str): Votre clé API Visual Crossing.\n",
    "        lat (float): Latitude de la région.\n",
    "        lon (float): Longitude de la région.\n",
    "        date (str): Date au format 'YYYY-MM-DD'.\n",
    "\n",
    "    Returns:\n",
    "        dict: Données météorologiques ou un message d'erreur.\n",
    "    \"\"\"\n",
    "    base_url = \"https://weather.visualcrossing.com/VisualCrossingWebServices/rest/services/timeline/\"\n",
    "    url = f\"{base_url}{lat},{lon}/{date}/{date}\"\n",
    "    params = {\n",
    "        \"unitGroup\": \"metric\",  # Unités métriques (Celsius, mm, etc.)\n",
    "        \"key\": api_key,\n",
    "        \"include\": \"obs\"  # Inclure les observations historiques\n",
    "    }\n",
    "\n",
    "    response = requests.get(url, params=params)\n",
    "\n",
    "    if response.status_code == 200:\n",
    "        return response.json()\n",
    "    else:\n",
    "        return {\"error\": response.text}\n",
    "\n",
    "# convertis ces données géospatiales en longitude et latitude correspondante [[[36.801563, -17.829673], [36.802546, -17.875849], [36.850768, -17.874901], [36.849773, -17.828728], [36.801563, -17.829673]]]\n",
    "\n",
    "# Exemple d'utilisation\n",
    "api_key = \"PUTUNBTHW5R3Q9K2WUW6MPSD6\"  # Remplacez par votre clé API Visual Crossing\n",
    "latitude =  -1.993923  # Latitude pour Cergy, France\n",
    "longitude = 30.079851  # Longitude pour Cergy, France\n",
    "date = \"2019-01-18\"  # Date souhaitée\n",
    "\n",
    "weather_data = get_weather_visualcrossing(api_key, latitude, longitude, date)\n",
    "\n",
    "# Affichage des résultats\n",
    "if \"error\" in weather_data:\n",
    "    print(\"Erreur :\", weather_data[\"error\"])\n",
    "else:\n",
    "    print(\"Données météo :\", weather_data)\n"
   ]
  },
  {
   "cell_type": "code",
   "execution_count": 4,
   "metadata": {},
   "outputs": [],
   "source": [
    "df_test = df.head(10)"
   ]
  },
  {
   "cell_type": "code",
   "execution_count": 5,
   "metadata": {},
   "outputs": [
    {
     "ename": "NameError",
     "evalue": "name 'df_test' is not defined",
     "output_type": "error",
     "traceback": [
      "\u001b[1;31m---------------------------------------------------------------------------\u001b[0m",
      "\u001b[1;31mNameError\u001b[0m                                 Traceback (most recent call last)",
      "Cell \u001b[1;32mIn[5], line 7\u001b[0m\n\u001b[0;32m      4\u001b[0m weather_records \u001b[38;5;241m=\u001b[39m []\n\u001b[0;32m      6\u001b[0m \u001b[38;5;66;03m# Parcourir chaque ligne du DataFrame\u001b[39;00m\n\u001b[1;32m----> 7\u001b[0m \u001b[38;5;28;01mfor\u001b[39;00m index, row \u001b[38;5;129;01min\u001b[39;00m \u001b[43mdf_test\u001b[49m\u001b[38;5;241m.\u001b[39miterrows():\n\u001b[0;32m      8\u001b[0m     weather_data \u001b[38;5;241m=\u001b[39m get_weather_visualcrossing(api_key, row[\u001b[38;5;124m'\u001b[39m\u001b[38;5;124mlatitude_centroid\u001b[39m\u001b[38;5;124m'\u001b[39m], row[\u001b[38;5;124m'\u001b[39m\u001b[38;5;124mlongitude_centroid\u001b[39m\u001b[38;5;124m'\u001b[39m], row[\u001b[38;5;124m'\u001b[39m\u001b[38;5;124mdate\u001b[39m\u001b[38;5;124m'\u001b[39m])\n\u001b[0;32m      9\u001b[0m     \u001b[38;5;28;01mif\u001b[39;00m \u001b[38;5;124m\"\u001b[39m\u001b[38;5;124merror\u001b[39m\u001b[38;5;124m\"\u001b[39m \u001b[38;5;129;01min\u001b[39;00m weather_data:\n",
      "\u001b[1;31mNameError\u001b[0m: name 'df_test' is not defined"
     ]
    }
   ],
   "source": [
    "# Python\n",
    "\n",
    "# Liste pour stocker les données météorologiques avec l'index\n",
    "weather_records = []\n",
    "\n",
    "# Parcourir chaque ligne du DataFrame\n",
    "for index, row in df_test.iterrows():\n",
    "    weather_data = get_weather_visualcrossing(api_key, row['latitude_centroid'], row['longitude_centroid'], row['date'])\n",
    "    if \"error\" in weather_data:\n",
    "        print(f\"Erreur pour la ligne {index} :\", weather_data[\"error\"])\n",
    "    else:\n",
    "        # Extraire les données météo du jour\n",
    "        day_data = weather_data['days'][0]\n",
    "        # Retirer les colonnes inutiles\n",
    "        day_data.pop('datetime', None)\n",
    "        day_data.pop('datetimeEpoch', None)\n",
    "        # Ajouter les informations de timezone\n",
    "        day_data['timezone'] = weather_data.get('timezone')\n",
    "        # Ajouter l'index pour aligner correctement les données plus tard\n",
    "        day_data['index'] = index\n",
    "        # Ajouter les données à la liste des enregistrements\n",
    "        weather_records.append(day_data)\n",
    "\n",
    "# Convertir la liste de dictionnaires en DataFrame\n",
    "weather_df = pd.DataFrame(weather_records)\n",
    "\n",
    "# Régler l'index du DataFrame météorologique sur 'index'\n",
    "weather_df.set_index('index', inplace=True)\n",
    "\n",
    "# Fusionner les données météorologiques avec df_test sur l'index\n",
    "df_test = df_test.merge(weather_df, left_index=True, right_index=True, how='left')"
   ]
  },
  {
   "cell_type": "code",
   "execution_count": null,
   "metadata": {},
   "outputs": [],
   "source": []
  }
 ],
 "metadata": {
  "kernelspec": {
   "display_name": "env311",
   "language": "python",
   "name": "python3"
  },
  "language_info": {
   "codemirror_mode": {
    "name": "ipython",
    "version": 3
   },
   "file_extension": ".py",
   "mimetype": "text/x-python",
   "name": "python",
   "nbconvert_exporter": "python",
   "pygments_lexer": "ipython3",
   "version": "3.11.9"
  }
 },
 "nbformat": 4,
 "nbformat_minor": 2
}
