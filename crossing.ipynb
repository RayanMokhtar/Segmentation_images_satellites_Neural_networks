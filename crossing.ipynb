{
 "cells": [
  {
   "cell_type": "code",
   "execution_count": null,
   "metadata": {},
   "outputs": [
    {
     "name": "stdout",
     "output_type": "stream",
     "text": [
      "Données météo : {'queryCost': 1, 'latitude': -19.138148, 'longitude': 146.851468, 'resolvedAddress': '-19.138148,146.851468', 'address': '-19.138148,146.851468', 'timezone': 'Australia/Brisbane', 'tzoffset': 10.0, 'days': [{'datetime': '2019-01-18', 'datetimeEpoch': 1547733600, 'tempmax': 30.8, 'tempmin': 24.8, 'temp': 27.9, 'feelslikemax': 35.1, 'feelslikemin': 24.8, 'feelslike': 30.6, 'dew': 22.7, 'humidity': 73.7, 'precip': 3.146, 'precipprob': 100.0, 'precipcover': 8.33, 'preciptype': ['rain'], 'snow': None, 'snowdepth': None, 'windgust': None, 'windspeed': 35.3, 'winddir': 92.4, 'pressure': 1010.7, 'cloudcover': 57.6, 'visibility': 10.0, 'solarradiation': None, 'solarenergy': None, 'uvindex': None, 'sunrise': '05:48:53', 'sunriseEpoch': 1547754533, 'sunset': '18:56:31', 'sunsetEpoch': 1547801791, 'moonphase': 0.4, 'conditions': 'Rain, Partially cloudy', 'description': 'Partly cloudy throughout the day with rain.', 'icon': 'rain', 'stations': ['95296099999', 'CBGR', 'YBTL', '94294099999', '95295099999', '95293099999'], 'source': 'obs'}], 'stations': {'95296099999': {'distance': 74886.0, 'latitude': -19.45, 'longitude': 147.483, 'useCount': 0, 'id': '95296099999', 'name': 'AYR ALVA BEACH, AS', 'quality': 96, 'contribution': 0.0}, 'CBGR': {'distance': 60409.0, 'latitude': -19.3, 'longitude': 147.4, 'useCount': 0, 'id': 'CBGR', 'name': 'CBGR (maritime)', 'quality': 0, 'contribution': 0.0}, 'YBTL': {'distance': 16396.0, 'latitude': -19.25, 'longitude': 146.75, 'useCount': 0, 'id': 'YBTL', 'name': 'YBTL', 'quality': 50, 'contribution': 0.0}, '94294099999': {'distance': 15642.0, 'latitude': -19.252, 'longitude': 146.765, 'useCount': 0, 'id': '94294099999', 'name': 'TOWNSVILLE, AS', 'quality': 100, 'contribution': 0.0}, '95295099999': {'distance': 77159.0, 'latitude': -19.617, 'longitude': 147.383, 'useCount': 0, 'id': '95295099999', 'name': 'AYR DPI RESEARCH STATION, AS', 'quality': 84, 'contribution': 0.0}, '95293099999': {'distance': 45622.0, 'latitude': -19.417, 'longitude': 146.533, 'useCount': 0, 'id': '95293099999', 'name': 'WOOLSHED, AS', 'quality': 95, 'contribution': 0.0}}}\n"
     ]
    }
   ],
   "source": [
    "import requests\n",
    "\n",
    "def get_weather_visualcrossing(api_key, lat, lon, date):\n",
    "    \"\"\"\n",
    "    Récupère les données météorologiques historiques pour une localisation et une date donnée\n",
    "    via l'API Visual Crossing.\n",
    "\n",
    "    Args:\n",
    "        api_key (str): Votre clé API Visual Crossing.\n",
    "        lat (float): Latitude de la région.\n",
    "        lon (float): Longitude de la région.\n",
    "        date (str): Date au format 'YYYY-MM-DD'.\n",
    "\n",
    "    Returns:\n",
    "        dict: Données météorologiques ou un message d'erreur.\n",
    "    \"\"\"\n",
    "    base_url = \"https://weather.visualcrossing.com/VisualCrossingWebServices/rest/services/timeline/\"\n",
    "    url = f\"{base_url}{lat},{lon}/{date}/{date}\"\n",
    "    params = {\n",
    "        \"unitGroup\": \"metric\",  # Unités métriques (Celsius, mm, etc.)\n",
    "        \"key\": api_key,\n",
    "        \"include\": \"obs\"  # Inclure les observations historiques\n",
    "    }\n",
    "\n",
    "    response = requests.get(url, params=params)\n",
    "\n",
    "    if response.status_code == 200:\n",
    "        return response.json()\n",
    "    else:\n",
    "        return {\"error\": response.text}\n",
    "\n",
    "# convertis ces données géospatiales en longitude et latitude correspondante [[[36.801563, -17.829673], [36.802546, -17.875849], [36.850768, -17.874901], [36.849773, -17.828728], [36.801563, -17.829673]]]\n",
    "\n",
    "\n",
    "# Exemple d'utilisation\n",
    "api_key = \"PUTUNBTHW5R3Q9K2WUW6MPSD6\"  # Remplacez par votre clé API Visual Crossing\n",
    "latitude =  -19.138148  # Latitude pour Cergy, France\n",
    "longitude = 146.851468  # Longitude pour Cergy, France\n",
    "date = \"2019-01-18\"  # Date souhaitée\n",
    "\n",
    "weather_data = get_weather_visualcrossing(api_key, latitude, longitude, date)\n",
    "\n",
    "# Affichage des résultats\n",
    "if \"error\" in weather_data:\n",
    "    print(\"Erreur :\", weather_data[\"error\"])\n",
    "else:\n",
    "    print(\"Données météo :\", weather_data)\n"
   ]
  }
 ],
 "metadata": {
  "kernelspec": {
   "display_name": "env311",
   "language": "python",
   "name": "python3"
  },
  "language_info": {
   "codemirror_mode": {
    "name": "ipython",
    "version": 3
   },
   "file_extension": ".py",
   "mimetype": "text/x-python",
   "name": "python",
   "nbconvert_exporter": "python",
   "pygments_lexer": "ipython3",
   "version": "3.11.9"
  }
 },
 "nbformat": 4,
 "nbformat_minor": 2
}
