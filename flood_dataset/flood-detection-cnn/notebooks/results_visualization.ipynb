{
 "cells": [
  {
   "cell_type": "markdown",
   "metadata": {},
   "source": [
    "# Results Visualization\n",
    "\n",
    "This notebook visualizes the results of the flood detection model predictions and evaluation metrics. It includes plots for accuracy, precision, recall, and F1-score, as well as visual comparisons of predicted and true labels."
   ]
  },
  {
   "cell_type": "code",
   "execution_count": null,
   "metadata": {
    "collapsed": false
   },
   "outputs": [],
   "source": [
    "import numpy as np\n",
    "import matplotlib.pyplot as plt\n",
    "import seaborn as sns\n",
    "from src.utils.metrics import calculate_metrics\n",
    "from src.utils.visualization import visualize_predictions\n",
    "from src.data.dataset import Dataset\n",
    "from src.models.cnn import FloodDetectionCNN\n",
    "from src.training.trainer import Trainer\n",
    "\n",
    "# Load the trained model\n",
    "model = FloodDetectionCNN()  # Initialize your model architecture\n",
    "model.load_state_dict(torch.load('path_to_trained_model.pth'))  # Load the trained weights\n",
    "\n",
    "# Load the test dataset\n",
    "test_dataset = Dataset(split='test')  # Assuming Dataset class handles loading\n",
    "test_loader = DataLoader(test_dataset, batch_size=32, shuffle=False)\n",
    "\n",
    "# Evaluate the model\n",
    "metrics = calculate_metrics(model, test_loader)\n",
    "\n",
    "# Visualize metrics\n",
    "def plot_metrics(metrics):\n",
    "    plt.figure(figsize=(10, 5))\n",
    "    sns.barplot(x=list(metrics.keys()), y=list(metrics.values()))\n",
    "    plt.title('Model Evaluation Metrics')\n",
    "    plt.ylabel('Score')\n",
    "    plt.ylim(0, 1)\n",
    "    plt.show()\n",
    "\n",
    "plot_metrics(metrics)\n",
    "\n",
    "# Visualize predictions\n",
    "visualize_predictions(model, test_loader, num_samples=5)\n"
   ]
  }
 ],
 "metadata": {
  "kernelspec": {
   "display_name": "Python 3",
   "language": "python",
   "name": "python3"
  },
  "language_info": {
   "codemirror_mode": {
    "name": "ipython",
    "version": 3
   },
   "file_extension": ".py",
   "mimetype": "text/x-python",
   "name": "python",
   "nbconvert_exporter": "python",
   "pygments_lexer": "ipython3",
   "version": "3.8.5"
  }
 },
 "nbformat": 4,
 "nbformat_minor": 4
}