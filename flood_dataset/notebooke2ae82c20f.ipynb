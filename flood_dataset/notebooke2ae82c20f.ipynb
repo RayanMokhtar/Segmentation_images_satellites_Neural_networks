{
 "cells": [
  {
   "cell_type": "markdown",
   "metadata": {},
   "source": [
    "# References and resources \n",
    "\n",
    "* https://www.int-arch-photogramm-remote-sens-spatial-inf-sci.net/XLIII-B2-2020/1343/2020/isprs-archives-XLIII-B2-2020-1343-2020.pdf\n",
    "* Dataset : https://mlhub.earth/data/sen12floods"
   ]
  },
  {
   "cell_type": "markdown",
   "metadata": {},
   "source": [
    "# Imports "
   ]
  },
  {
   "cell_type": "code",
   "execution_count": null,
   "metadata": {
    "execution": {
     "iopub.execute_input": "2022-05-31T12:38:14.080366Z",
     "iopub.status.busy": "2022-05-31T12:38:14.079538Z",
     "iopub.status.idle": "2022-05-31T12:38:27.640026Z",
     "shell.execute_reply": "2022-05-31T12:38:27.638719Z",
     "shell.execute_reply.started": "2022-05-31T12:38:14.080254Z"
    },
    "trusted": true
   },
   "outputs": [],
   "source": [
    "!pip install radiant_mlhub -q"
   ]
  },
  {
   "cell_type": "code",
   "execution_count": null,
   "metadata": {
    "execution": {
     "iopub.execute_input": "2022-05-31T13:16:31.572865Z",
     "iopub.status.busy": "2022-05-31T13:16:31.572207Z",
     "iopub.status.idle": "2022-05-31T13:16:31.580528Z",
     "shell.execute_reply": "2022-05-31T13:16:31.579498Z",
     "shell.execute_reply.started": "2022-05-31T13:16:31.572811Z"
    },
    "trusted": true
   },
   "outputs": [],
   "source": [
    "import os \n",
    "from radiant_mlhub import get_session\n",
    "from radiant_mlhub import Dataset,Collection\n",
    "import shutil\n",
    "import geopandas as gpd \n",
    "\n",
    "#get key\n",
    "from kaggle_secrets import UserSecretsClient\n",
    "user_secrets = UserSecretsClient()\n",
    "secret_value_0 = user_secrets.get_secret(\"RadiantEarth_MLHub\")\n",
    "\n",
    "\n",
    "#authenticate\n",
    "os.environ['MLHUB_API_KEY'] = secret_value_0\n",
    "session = get_session()"
   ]
  },
  {
   "cell_type": "code",
   "execution_count": null,
   "metadata": {
    "execution": {
     "iopub.execute_input": "2022-05-31T13:05:09.370308Z",
     "iopub.status.busy": "2022-05-31T13:05:09.368992Z",
     "iopub.status.idle": "2022-05-31T13:05:11.230239Z",
     "shell.execute_reply": "2022-05-31T13:05:11.229072Z",
     "shell.execute_reply.started": "2022-05-31T13:05:09.370216Z"
    },
    "trusted": true
   },
   "outputs": [],
   "source": [
    "\n",
    "ds = Dataset.fetch('sen12floods')\n",
    "\n",
    "\n",
    "print('total size of the dataset %1.2f' % (ds.total_archive_size/ 1024**3))\n",
    "\n",
    "for file in ds.collections:\n",
    "    print(f'{file.id}: {file.title}....Size in MB is {round(file.archive_size/(1024**2),4)}')"
   ]
  },
  {
   "cell_type": "code",
   "execution_count": null,
   "metadata": {
    "execution": {
     "iopub.execute_input": "2022-05-31T13:05:13.965271Z",
     "iopub.status.busy": "2022-05-31T13:05:13.964372Z",
     "iopub.status.idle": "2022-05-31T13:05:14.728445Z",
     "shell.execute_reply": "2022-05-31T13:05:14.727389Z",
     "shell.execute_reply.started": "2022-05-31T13:05:13.965212Z"
    },
    "trusted": true
   },
   "outputs": [],
   "source": [
    "#make directory \n",
    "!mkdir sen12flood && ls"
   ]
  },
  {
   "cell_type": "code",
   "execution_count": null,
   "metadata": {
    "execution": {
     "iopub.execute_input": "2022-05-31T13:05:16.041333Z",
     "iopub.status.busy": "2022-05-31T13:05:16.040808Z",
     "iopub.status.idle": "2022-05-31T13:06:53.013661Z",
     "shell.execute_reply": "2022-05-31T13:06:53.012384Z",
     "shell.execute_reply.started": "2022-05-31T13:05:16.041268Z"
    },
    "trusted": true
   },
   "outputs": [],
   "source": [
    "#download dataset\n",
    "ds.download(output_dir='sen12flood')"
   ]
  },
  {
   "cell_type": "code",
   "execution_count": null,
   "metadata": {
    "execution": {
     "iopub.execute_input": "2022-05-31T13:24:39.60556Z",
     "iopub.status.busy": "2022-05-31T13:24:39.604994Z",
     "iopub.status.idle": "2022-05-31T13:24:40.894035Z",
     "shell.execute_reply": "2022-05-31T13:24:40.892433Z",
     "shell.execute_reply.started": "2022-05-31T13:24:39.605514Z"
    },
    "trusted": true
   },
   "outputs": [],
   "source": [
    "!tar  -xzf /kaggle/working/sen12flood/sen12floods_s1_labels.tar.gz "
   ]
  },
  {
   "cell_type": "code",
   "execution_count": null,
   "metadata": {
    "execution": {
     "iopub.execute_input": "2022-05-31T13:24:44.169831Z",
     "iopub.status.busy": "2022-05-31T13:24:44.168722Z",
     "iopub.status.idle": "2022-05-31T13:24:44.986864Z",
     "shell.execute_reply": "2022-05-31T13:24:44.985487Z",
     "shell.execute_reply.started": "2022-05-31T13:24:44.169774Z"
    },
    "trusted": true
   },
   "outputs": [],
   "source": [
    "#check total num of files \n",
    "!ls sen12floods_s1_labels | wc -l"
   ]
  },
  {
   "cell_type": "code",
   "execution_count": null,
   "metadata": {
    "execution": {
     "iopub.execute_input": "2022-05-31T13:24:48.282089Z",
     "iopub.status.busy": "2022-05-31T13:24:48.281639Z",
     "iopub.status.idle": "2022-05-31T13:24:48.322641Z",
     "shell.execute_reply": "2022-05-31T13:24:48.321359Z",
     "shell.execute_reply.started": "2022-05-31T13:24:48.282051Z"
    },
    "trusted": true
   },
   "outputs": [],
   "source": [
    "chk = gpd.read_file('sen12floods_s1_labels/sen12floods_s1_labels_0214_2019_03_18/labels.geojson')\n",
    "\n",
    "chk.total_bounds"
   ]
  },
  {
   "cell_type": "code",
   "execution_count": null,
   "metadata": {
    "execution": {
     "iopub.execute_input": "2022-05-31T13:25:01.921649Z",
     "iopub.status.busy": "2022-05-31T13:25:01.921045Z",
     "iopub.status.idle": "2022-05-31T13:25:02.125995Z",
     "shell.execute_reply": "2022-05-31T13:25:02.124858Z",
     "shell.execute_reply.started": "2022-05-31T13:25:01.921597Z"
    },
    "trusted": true
   },
   "outputs": [],
   "source": [
    "chk.plot()"
   ]
  },
  {
   "cell_type": "code",
   "execution_count": null,
   "metadata": {
    "execution": {
     "iopub.execute_input": "2022-05-31T13:25:23.082952Z",
     "iopub.status.busy": "2022-05-31T13:25:23.082453Z",
     "iopub.status.idle": "2022-05-31T13:25:24.265239Z",
     "shell.execute_reply": "2022-05-31T13:25:24.263934Z",
     "shell.execute_reply.started": "2022-05-31T13:25:23.082916Z"
    },
    "trusted": true
   },
   "outputs": [],
   "source": [
    "!rm -r sen12floods_s1_labels"
   ]
  }
 ],
 "metadata": {
  "kaggle": {
   "accelerator": "none",
   "dataSources": [],
   "dockerImageVersionId": 30197,
   "isGpuEnabled": false,
   "isInternetEnabled": false,
   "language": "python",
   "sourceType": "notebook"
  },
  "kernelspec": {
   "display_name": "env",
   "language": "python",
   "name": "python3"
  },
  "language_info": {
   "codemirror_mode": {
    "name": "ipython",
    "version": 3
   },
   "file_extension": ".py",
   "mimetype": "text/x-python",
   "name": "python",
   "nbconvert_exporter": "python",
   "pygments_lexer": "ipython3",
   "version": "3.11.9"
  }
 },
 "nbformat": 4,
 "nbformat_minor": 4
}
