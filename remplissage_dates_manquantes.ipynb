{
 "cells": [
  {
   "cell_type": "code",
   "execution_count": 3,
   "id": "43039abf",
   "metadata": {},
   "outputs": [
    {
     "name": "stdout",
     "output_type": "stream",
     "text": [
      "Récupération des données météo pour Lat: -19.138148, Lon: 146.851468, Date: 2019-01-18\n",
      "Données météo récupérées avec succès :\n",
      "  Température max: 30.8\n",
      "  Température min: 24.8\n",
      "  Conditions: Rain, Partially cloudy\n",
      "Données météo récupérées avec succès :\n",
      "  Température max: 30.8\n",
      "  Température min: 24.8\n",
      "  Conditions: Rain, Partially cloudy\n"
     ]
    }
   ],
   "source": [
    "import requests\n",
    "\n",
    "def get_weather_visualcrossing(api_key, lat, lon, date):\n",
    "    \"\"\"\n",
    "    Récupère les données météorologiques historiques pour une localisation et une date donnée\n",
    "    via l'API Visual Crossing.\n",
    "\n",
    "    Args:\n",
    "        api_key (str): Votre clé API Visual Crossing.\n",
    "        lat (float): Latitude de la région.\n",
    "        lon (float): Longitude de la région.\n",
    "        date (str): Date au format 'YYYY-MM-DD'.\n",
    "\n",
    "    Returns:\n",
    "        dict: Données météorologiques ou un message d'erreur.\n",
    "    \"\"\"\n",
    "    base_url = \"https://weather.visualcrossing.com/VisualCrossingWebServices/rest/services/timeline/\"\n",
    "    url = f\"{base_url}{lat},{lon}/{date}/{date}\"\n",
    "    params = {\n",
    "        \"unitGroup\": \"metric\",  # Unités métriques (Celsius, mm, etc.)\n",
    "        \"key\": api_key,\n",
    "        \"include\": \"obs\"  # Inclure les observations historiques\n",
    "    }\n",
    "\n",
    "    try:\n",
    "        response = requests.get(url, params=params)\n",
    "        response.raise_for_status() # Lèvera une exception pour les codes d'erreur HTTP 4xx/5xx\n",
    "        return response.json()\n",
    "    except requests.exceptions.HTTPError as http_err:\n",
    "        print(f\"Erreur HTTP: {http_err} - {response.text}\")\n",
    "        return {\"error\": response.text, \"status_code\": response.status_code}\n",
    "    except requests.exceptions.RequestException as req_err:\n",
    "        print(f\"Erreur de requête: {req_err}\")\n",
    "        return {\"error\": str(req_err)}\n",
    "\n",
    "if __name__ == \"__main__\":\n",
    "    # Exemple d'utilisation\n",
    "    # REMPLACEZ CECI PAR VOTRE VRAIE CLÉ API VISUAL CROSSING\n",
    "    api_key = \"PUTUNBTHW5R3Q9K2WUW6MPSD6\"\n",
    "    \n",
    "    latitude = -19.138148  # Latitude exemple\n",
    "    longitude = 146.851468  # Longitude exemple\n",
    "    date_str = \"2019-01-18\"  # Date souhaitée\n",
    "\n",
    "    print(f\"Récupération des données météo pour Lat: {latitude}, Lon: {longitude}, Date: {date_str}\")\n",
    "    weather_data = get_weather_visualcrossing(api_key, latitude, longitude, date_str)\n",
    "\n",
    "    if \"error\" in weather_data:\n",
    "        print(\"Erreur lors de la récupération des données :\")\n",
    "        if \"status_code\" in weather_data:\n",
    "            print(f\"  Status Code: {weather_data['status_code']}\")\n",
    "        print(f\"  Message: {weather_data['error']}\")\n",
    "    else:\n",
    "        print(\"Données météo récupérées avec succès :\")\n",
    "        # Afficher quelques informations clés pour vérifier\n",
    "        if weather_data.get('days'):\n",
    "            print(f\"  Température max: {weather_data['days'][0].get('tempmax')}\")\n",
    "            print(f\"  Température min: {weather_data['days'][0].get('tempmin')}\")\n",
    "            print(f\"  Conditions: {weather_data['days'][0].get('conditions')}\")\n",
    "        else:\n",
    "            print(\"  Format de données inattendu.\")\n",
    "        # print(\"Données météo complètes:\", weather_data) # Décommentez pour voir toutes les données\n"
   ]
  }
 ],
 "metadata": {
  "kernelspec": {
   "display_name": "Python 3",
   "language": "python",
   "name": "python3"
  },
  "language_info": {
   "codemirror_mode": {
    "name": "ipython",
    "version": 3
   },
   "file_extension": ".py",
   "mimetype": "text/x-python",
   "name": "python",
   "nbconvert_exporter": "python",
   "pygments_lexer": "ipython3",
   "version": "3.12.0"
  }
 },
 "nbformat": 4,
 "nbformat_minor": 5
}
