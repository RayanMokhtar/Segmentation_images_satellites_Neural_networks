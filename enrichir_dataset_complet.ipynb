{
 "cells": [
  {
   "cell_type": "code",
   "execution_count": 1,
   "id": "d4a4ebea",
   "metadata": {},
   "outputs": [],
   "source": [
    "import pandas as pd\n",
    "import numpy as np\n",
    "import logging\n",
    "import sys\n",
    "from datetime import timedelta\n",
    "from tqdm import tqdm"
   ]
  },
  {
   "cell_type": "code",
   "execution_count": 2,
   "id": "7722d8c2",
   "metadata": {},
   "outputs": [],
   "source": [
    "# lis les données du fichier CSV\n",
    "dataset_complet = pd.read_csv('./dataset_final - Copie.csv', sep=';', encoding='utf-8')"
   ]
  },
  {
   "cell_type": "code",
   "execution_count": null,
   "id": "38d2bd14",
   "metadata": {},
   "outputs": [
    {
     "name": "stdout",
     "output_type": "stream",
     "text": [
      "\n",
      "Aucune donnée trouvée pour la région avec chemin_directory = '0311'\n"
     ]
    }
   ],
   "source": [
    "# Affiche les labels et dates pour la région 0311\n",
    "region_0311 = dataset_complet[dataset_complet['chemin_directory'] == '\\'0163']\n",
    "\n",
    "if len(region_0311) > 0:\n",
    "    print(f\"\\nNombre d'échantillons pour la région 0311: {len(region_0311)}\")\n",
    "    \n",
    "    # Supposant que vous avez une colonne 'label' et 'date' dans votre dataframe\n",
    "    # Ajustez les noms des colonnes selon votre dataset réel\n",
    "    print(\"\\nLabels et dates pour la région 0311:\")\n",
    "    \n",
    "    # Sélectionne seulement les colonnes pertinentes pour l'affichage\n",
    "    colonnes_a_afficher = ['label', 'date']\n",
    "    colonnes_disponibles = [col for col in colonnes_a_afficher if col in region_0311.columns]\n",
    "    \n",
    "    if colonnes_disponibles:\n",
    "        print(region_0311[colonnes_disponibles].head(10))  # Affiche les 10 premières lignes\n",
    "        \n",
    "        # Distribution des labels dans cette région\n",
    "        if 'label' in region_0311.columns:\n",
    "            print(\"\\nDistribution des labels dans la région 0311:\")\n",
    "            print(region_0311['label'].value_counts())\n",
    "    else:\n",
    "        print(\"Les colonnes 'label' et/ou 'date' ne sont pas disponibles dans le dataset\")\n",
    "else:\n",
    "    print(\"\\nAucune donnée trouvée pour la région avec chemin_directory = '0311'\")"
   ]
  },
  {
   "cell_type": "code",
   "execution_count": null,
   "id": "e8b3e815",
   "metadata": {},
   "outputs": [],
   "source": []
  }
 ],
 "metadata": {
  "kernelspec": {
   "display_name": "Python 3",
   "language": "python",
   "name": "python3"
  },
  "language_info": {
   "codemirror_mode": {
    "name": "ipython",
    "version": 3
   },
   "file_extension": ".py",
   "mimetype": "text/x-python",
   "name": "python",
   "nbconvert_exporter": "python",
   "pygments_lexer": "ipython3",
   "version": "3.12.0"
  }
 },
 "nbformat": 4,
 "nbformat_minor": 5
}
